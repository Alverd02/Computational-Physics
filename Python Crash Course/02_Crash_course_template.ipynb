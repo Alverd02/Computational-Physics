{
 "cells": [
  {
   "cell_type": "markdown",
   "id": "e691d848",
   "metadata": {},
   "source": [
    "# Crash Course for Python 3"
   ]
  },
  {
   "cell_type": "code",
   "execution_count": 1,
   "id": "d94bfe5c",
   "metadata": {},
   "outputs": [],
   "source": [
    "import numpy as np"
   ]
  },
  {
   "cell_type": "markdown",
   "id": "f01a4950",
   "metadata": {},
   "source": [
    "### Arrays (import numpy)"
   ]
  },
  {
   "cell_type": "code",
   "execution_count": 2,
   "id": "23cc7452",
   "metadata": {},
   "outputs": [],
   "source": [
    "array1 = np.array([1,4,9])\n",
    "array2 = np.array([1,\"s\",23])\n",
    "array3 = np.array([[1,2,3],[4,5,6]])"
   ]
  },
  {
   "cell_type": "code",
   "execution_count": 3,
   "id": "595cd2e2",
   "metadata": {},
   "outputs": [
    {
     "data": {
      "text/plain": [
       "array([[1, 2, 3],\n",
       "       [4, 5, 6]])"
      ]
     },
     "execution_count": 3,
     "metadata": {},
     "output_type": "execute_result"
    }
   ],
   "source": [
    "array3"
   ]
  },
  {
   "cell_type": "markdown",
   "id": "ff2f03fa",
   "metadata": {},
   "source": [
    "Select elements"
   ]
  },
  {
   "cell_type": "code",
   "execution_count": 4,
   "id": "9bfac838",
   "metadata": {},
   "outputs": [
    {
     "name": "stdout",
     "output_type": "stream",
     "text": [
      "4\n",
      "['1' 's']\n",
      "6\n"
     ]
    }
   ],
   "source": [
    "print(array1[1])\n",
    "print(array2[0:2])\n",
    "print(array3[1,2])"
   ]
  },
  {
   "cell_type": "markdown",
   "id": "d2730874",
   "metadata": {},
   "source": [
    "Manipulate"
   ]
  },
  {
   "cell_type": "code",
   "execution_count": 5,
   "id": "0dc40268",
   "metadata": {},
   "outputs": [
    {
     "name": "stdout",
     "output_type": "stream",
     "text": [
      "[1 4 9 7]\n"
     ]
    }
   ],
   "source": [
    "array1 = np.append(array1, 7)\n",
    "print(array1)"
   ]
  },
  {
   "cell_type": "code",
   "execution_count": 6,
   "id": "401ce1f8",
   "metadata": {},
   "outputs": [
    {
     "name": "stdout",
     "output_type": "stream",
     "text": [
      "[ 1  4  9  7 76 41]\n"
     ]
    }
   ],
   "source": [
    "array1 = np.append(array1, np.array([76, 41]))\n",
    "print(array1)\n"
   ]
  },
  {
   "cell_type": "markdown",
   "id": "0761b8b1",
   "metadata": {},
   "source": [
    "Manipulate multi-dimensional arrays"
   ]
  },
  {
   "cell_type": "code",
   "execution_count": 7,
   "id": "ea7b5ce9",
   "metadata": {},
   "outputs": [
    {
     "name": "stdout",
     "output_type": "stream",
     "text": [
      "[[1 2 3]\n",
      " [4 5 6]\n",
      " [9 9 9]]\n"
     ]
    }
   ],
   "source": [
    "array3 = np.append(array3, np.array([[9,9,9]]), axis=0)\n",
    "print(array3)"
   ]
  },
  {
   "cell_type": "code",
   "execution_count": 8,
   "id": "0ae25b81",
   "metadata": {},
   "outputs": [
    {
     "name": "stdout",
     "output_type": "stream",
     "text": [
      "[[1 2 3 0 8]\n",
      " [4 5 6 0 8]\n",
      " [9 9 9 0 8]]\n"
     ]
    }
   ],
   "source": [
    "array3 = np.append(array3, np.array([[0,8],[0,8],[0,8]]), axis=1)\n",
    "print(array3)"
   ]
  },
  {
   "cell_type": "markdown",
   "id": "1d6e46aa",
   "metadata": {},
   "source": [
    "Maths"
   ]
  },
  {
   "cell_type": "code",
   "execution_count": 9,
   "id": "f9c20502",
   "metadata": {},
   "outputs": [],
   "source": [
    "array1 = array1*2"
   ]
  },
  {
   "cell_type": "code",
   "execution_count": 10,
   "id": "fb54c760",
   "metadata": {},
   "outputs": [
    {
     "name": "stdout",
     "output_type": "stream",
     "text": [
      "[  4  10  20  16 154  84]\n"
     ]
    }
   ],
   "source": [
    "array1 = array1+2\n",
    "print(array1)"
   ]
  },
  {
   "cell_type": "markdown",
   "id": "74215be2",
   "metadata": {},
   "source": [
    "### Vectors and Matrices"
   ]
  },
  {
   "cell_type": "markdown",
   "id": "d06dbec0",
   "metadata": {},
   "source": [
    "### Vectors"
   ]
  },
  {
   "cell_type": "code",
   "execution_count": 16,
   "id": "24b8881a",
   "metadata": {},
   "outputs": [],
   "source": [
    "vec1 = np.array([1,1,1])\n",
    "vec2 = np.array([2,3,4])"
   ]
  },
  {
   "cell_type": "markdown",
   "id": "18a66c5e",
   "metadata": {},
   "source": [
    "Dot and cross product"
   ]
  },
  {
   "cell_type": "code",
   "execution_count": 17,
   "id": "fce06233",
   "metadata": {},
   "outputs": [
    {
     "data": {
      "text/plain": [
       "9"
      ]
     },
     "execution_count": 17,
     "metadata": {},
     "output_type": "execute_result"
    }
   ],
   "source": [
    "np.dot(vec1,vec2)"
   ]
  },
  {
   "cell_type": "code",
   "execution_count": 19,
   "id": "7e895e3a",
   "metadata": {},
   "outputs": [
    {
     "name": "stdout",
     "output_type": "stream",
     "text": [
      "[ 1 -2  1]\n",
      "[-1  2 -1]\n"
     ]
    }
   ],
   "source": [
    "print(np.cross(vec1,vec2))\n",
    "print(np.cross(vec2,vec1))"
   ]
  },
  {
   "cell_type": "markdown",
   "id": "50850406",
   "metadata": {},
   "source": [
    "Norm"
   ]
  },
  {
   "cell_type": "code",
   "execution_count": 24,
   "id": "884449c9",
   "metadata": {},
   "outputs": [
    {
     "data": {
      "text/plain": [
       "1.7320508075688772"
      ]
     },
     "execution_count": 24,
     "metadata": {},
     "output_type": "execute_result"
    }
   ],
   "source": [
    "np.linalg.norm(vec1)"
   ]
  },
  {
   "cell_type": "code",
   "execution_count": 26,
   "id": "fb3105c6",
   "metadata": {},
   "outputs": [
    {
     "name": "stdout",
     "output_type": "stream",
     "text": [
      "1.7320508075688772\n"
     ]
    }
   ],
   "source": [
    "norm = np.sqrt(vec1[0]**2+vec1[1]**2+vec1[2]**2)\n",
    "print(norm)"
   ]
  },
  {
   "cell_type": "markdown",
   "id": "1cfcf2a6",
   "metadata": {},
   "source": [
    "### Matrices"
   ]
  },
  {
   "cell_type": "code",
   "execution_count": null,
   "id": "1333904e",
   "metadata": {},
   "outputs": [],
   "source": []
  },
  {
   "cell_type": "markdown",
   "id": "e637cfb5",
   "metadata": {},
   "source": [
    "Multiplication"
   ]
  },
  {
   "cell_type": "code",
   "execution_count": null,
   "id": "180ce33c",
   "metadata": {},
   "outputs": [],
   "source": []
  },
  {
   "cell_type": "markdown",
   "id": "34cc24c1",
   "metadata": {},
   "source": [
    "Determinant and inverse"
   ]
  },
  {
   "cell_type": "code",
   "execution_count": null,
   "id": "a2074c1e",
   "metadata": {},
   "outputs": [],
   "source": []
  },
  {
   "cell_type": "markdown",
   "id": "3c83d463",
   "metadata": {},
   "source": [
    "### Dictionaries"
   ]
  },
  {
   "cell_type": "code",
   "execution_count": null,
   "id": "34d5c319",
   "metadata": {},
   "outputs": [],
   "source": []
  },
  {
   "cell_type": "markdown",
   "id": "1fce0d30",
   "metadata": {},
   "source": [
    "Select entries"
   ]
  },
  {
   "cell_type": "code",
   "execution_count": null,
   "id": "612b510d",
   "metadata": {},
   "outputs": [],
   "source": []
  },
  {
   "cell_type": "markdown",
   "id": "ad5b9d7b",
   "metadata": {},
   "source": [
    "Manipulate entries"
   ]
  },
  {
   "cell_type": "code",
   "execution_count": null,
   "id": "f81f0166",
   "metadata": {},
   "outputs": [],
   "source": []
  },
  {
   "cell_type": "markdown",
   "id": "898f34a9",
   "metadata": {},
   "source": [
    "## Loops & If statements"
   ]
  },
  {
   "cell_type": "markdown",
   "id": "0223b044",
   "metadata": {},
   "source": [
    "### While loop"
   ]
  },
  {
   "cell_type": "code",
   "execution_count": null,
   "id": "6b128817",
   "metadata": {},
   "outputs": [],
   "source": []
  },
  {
   "cell_type": "markdown",
   "id": "22a7713e",
   "metadata": {},
   "source": [
    "### While loop with if statement"
   ]
  },
  {
   "cell_type": "code",
   "execution_count": null,
   "id": "08dac301",
   "metadata": {},
   "outputs": [],
   "source": []
  },
  {
   "cell_type": "markdown",
   "id": "25679e12",
   "metadata": {},
   "source": [
    "### For loop"
   ]
  },
  {
   "cell_type": "code",
   "execution_count": null,
   "id": "82096ab6",
   "metadata": {},
   "outputs": [],
   "source": []
  },
  {
   "cell_type": "markdown",
   "id": "9a42f405",
   "metadata": {},
   "source": [
    "## Work with files"
   ]
  },
  {
   "cell_type": "markdown",
   "id": "59fc0b05",
   "metadata": {},
   "source": [
    "### Save"
   ]
  },
  {
   "cell_type": "markdown",
   "id": "ba81e7c0",
   "metadata": {},
   "source": [
    "Save the whole list at once"
   ]
  },
  {
   "cell_type": "code",
   "execution_count": null,
   "id": "c89543d2",
   "metadata": {},
   "outputs": [],
   "source": []
  },
  {
   "cell_type": "markdown",
   "id": "2098a20f",
   "metadata": {},
   "source": [
    "Save each line one after another"
   ]
  },
  {
   "cell_type": "code",
   "execution_count": null,
   "id": "9933bcf0",
   "metadata": {},
   "outputs": [],
   "source": []
  },
  {
   "cell_type": "markdown",
   "id": "fcfd7618",
   "metadata": {},
   "source": [
    "### Load"
   ]
  },
  {
   "cell_type": "code",
   "execution_count": null,
   "id": "dc55e379",
   "metadata": {},
   "outputs": [],
   "source": []
  },
  {
   "cell_type": "markdown",
   "id": "ea05e2b0",
   "metadata": {},
   "source": [
    "## Functions"
   ]
  },
  {
   "cell_type": "markdown",
   "id": "546f29c8",
   "metadata": {},
   "source": [
    "def _name_(_arguments_):\n",
    "\n",
    "    commands"
   ]
  },
  {
   "cell_type": "markdown",
   "id": "1f771f79",
   "metadata": {},
   "source": [
    "First function without arguments"
   ]
  },
  {
   "cell_type": "code",
   "execution_count": null,
   "id": "2f64c11f",
   "metadata": {},
   "outputs": [],
   "source": []
  },
  {
   "cell_type": "markdown",
   "id": "12767034",
   "metadata": {},
   "source": [
    "Create your own dot product function"
   ]
  },
  {
   "cell_type": "code",
   "execution_count": null,
   "id": "b0511f87",
   "metadata": {},
   "outputs": [],
   "source": []
  },
  {
   "cell_type": "markdown",
   "id": "b6dadb70",
   "metadata": {},
   "source": [
    "Use argument keywords"
   ]
  },
  {
   "cell_type": "code",
   "execution_count": null,
   "id": "f7177b74",
   "metadata": {},
   "outputs": [],
   "source": []
  },
  {
   "cell_type": "markdown",
   "id": "5f84b488",
   "metadata": {},
   "source": [
    "## Plots (import matplotlib)"
   ]
  },
  {
   "cell_type": "code",
   "execution_count": 149,
   "id": "6ccb52c4",
   "metadata": {},
   "outputs": [],
   "source": [
    "import matplotlib.pyplot as plt"
   ]
  },
  {
   "cell_type": "markdown",
   "id": "b12613a9",
   "metadata": {},
   "source": [
    "### Scatter"
   ]
  },
  {
   "cell_type": "code",
   "execution_count": null,
   "id": "705a886c",
   "metadata": {},
   "outputs": [],
   "source": []
  },
  {
   "cell_type": "markdown",
   "id": "3c87de0e",
   "metadata": {},
   "source": [
    "### Plot"
   ]
  },
  {
   "cell_type": "code",
   "execution_count": null,
   "id": "d5f4b0dd",
   "metadata": {},
   "outputs": [],
   "source": []
  },
  {
   "cell_type": "markdown",
   "id": "d1533152",
   "metadata": {},
   "source": [
    "### Density plot"
   ]
  },
  {
   "cell_type": "code",
   "execution_count": null,
   "id": "1355713c",
   "metadata": {},
   "outputs": [],
   "source": []
  },
  {
   "cell_type": "markdown",
   "id": "75d4f04e",
   "metadata": {},
   "source": [
    "### 3d plots"
   ]
  },
  {
   "cell_type": "code",
   "execution_count": null,
   "id": "aec9347e",
   "metadata": {},
   "outputs": [],
   "source": []
  },
  {
   "cell_type": "markdown",
   "id": "627ab7c9",
   "metadata": {},
   "source": [
    "### 3d plots - lines & scatter plot"
   ]
  },
  {
   "cell_type": "code",
   "execution_count": null,
   "id": "3d8b91b9",
   "metadata": {},
   "outputs": [],
   "source": []
  }
 ],
 "metadata": {
  "kernelspec": {
   "display_name": "Python 3 (ipykernel)",
   "language": "python",
   "name": "python3"
  },
  "language_info": {
   "codemirror_mode": {
    "name": "ipython",
    "version": 3
   },
   "file_extension": ".py",
   "mimetype": "text/x-python",
   "name": "python",
   "nbconvert_exporter": "python",
   "pygments_lexer": "ipython3",
   "version": "3.10.9"
  }
 },
 "nbformat": 4,
 "nbformat_minor": 5
}
